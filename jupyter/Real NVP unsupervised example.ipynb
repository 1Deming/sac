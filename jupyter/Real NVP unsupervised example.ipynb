{
 "cells": [
  {
   "cell_type": "code",
   "execution_count": null,
   "metadata": {},
   "outputs": [],
   "source": [
    "# Fix \n",
    "import sys\n",
    "import os\n",
    "PROJECT_BASE = os.path.abspath(os.path.join(os.getcwd(), os.pardir))\n",
    "assert PROJECT_BASE.split(\"/\")[-1] == \"sac\"\n",
    "sys.path.append(PROJECT_BASE)"
   ]
  },
  {
   "cell_type": "code",
   "execution_count": null,
   "metadata": {},
   "outputs": [],
   "source": [
    "%load_ext autoreload\n",
    "%autoreload 2\n",
    "\n",
    "import time\n",
    "import itertools\n",
    "\n",
    "import tensorflow as tf\n",
    "import numpy as np\n",
    "from sklearn.mixture import GaussianMixture\n",
    "from sklearn.datasets import make_moons\n",
    "\n",
    "from examples.real_nvp_unsupervised_example import RealNVP2UnsupervisedExample\n",
    "\n",
    "%matplotlib inline\n",
    "\n",
    "import matplotlib\n",
    "import matplotlib.pyplot as plt\n",
    "plt.rcParams[\"figure.figsize\"] = (15,15)"
   ]
  },
  {
   "cell_type": "code",
   "execution_count": null,
   "metadata": {},
   "outputs": [],
   "source": [
    "SEED = np.random.randint(0, 10)\n",
    "print(\"seed:\", SEED)\n",
    "tf.set_random_seed(SEED)\n",
    "np.random.seed(SEED)"
   ]
  },
  {
   "cell_type": "code",
   "execution_count": null,
   "metadata": {},
   "outputs": [],
   "source": [
    "x_train, _ = make_moons(n_samples=50000,\n",
    "                        shuffle=True,\n",
    "                        noise=0.1,\n",
    "                        random_state=SEED)"
   ]
  },
  {
   "cell_type": "code",
   "execution_count": null,
   "metadata": {},
   "outputs": [],
   "source": [
    "fig = plt.figure()\n",
    "fig.subplots_adjust(left=0.12, right=0.97,\n",
    "                    bottom=0.21, top=0.9, wspace=0.5)\n",
    "ax = fig.add_subplot(111)\n",
    "ax.plot(x_train[:, 0], x_train[:, 1], '.b', markersize=0.25)\n",
    "ax.text(0.04, 0.96, \"Half moons\",\n",
    "        ha='left', va='top', transform=ax.transAxes)\n",
    "ax.set_xlabel('$x_{1}$')\n",
    "ax.set_ylabel('$x_{2}$')\n",
    "plt.grid(True)\n",
    "plt.show()\n",
    "plt.draw()"
   ]
  },
  {
   "cell_type": "code",
   "execution_count": null,
   "metadata": {
    "scrolled": false
   },
   "outputs": [],
   "source": [
    "tf.reset_default_graph()\n",
    "\n",
    "%matplotlib notebook\n",
    "\n",
    "subplots = figs, axs = plt.subplots(2, 2, figsize=(14, 14))\n",
    "plt.ion()\n",
    "\n",
    "axs[0][0].set_xlim(-1.5, 2.5)\n",
    "axs[0][0].set_ylim(-1.0, 1.5)\n",
    "\n",
    "axs[0][1].set_xlim(-2.5, 2.5)\n",
    "axs[0][1].set_ylim(-2.5, 2.5)\n",
    "\n",
    "axs[1][0].set_xlim(-1.5, 2.5)\n",
    "axs[1][0].set_ylim(-1.0, 1.5)\n",
    "\n",
    "axs[1][1].set_xlim(-2.5, 2.5)\n",
    "axs[1][1].set_ylim(-2.5, 2.5)\n",
    "\n",
    "fig.canvas.draw()\n",
    "\n",
    "training_config = {\n",
    "  \"mode\": \"train\",\n",
    "  \"D_in\": 2,\n",
    "  \"learning_rate\": 5e-3,\n",
    "}\n",
    "real_nvp_config = {\n",
    "  \"scale_regularization\": 0.0,\n",
    "  \"num_coupling_layers\": 4,\n",
    "  \"translation_hidden_sizes\": (25,),\n",
    "  \"scale_hidden_sizes\": (25,)\n",
    "}\n",
    "\n",
    "example = RealNVP2UnsupervisedExample(\n",
    "    x_train=x_train,\n",
    "    subplots=subplots,\n",
    "    training_config=training_config,\n",
    "    real_nvp_config=real_nvp_config,\n",
    "    plot_every=100,\n",
    "    num_epochs=20,\n",
    ")\n",
    "example.run()"
   ]
  },
  {
   "cell_type": "code",
   "execution_count": null,
   "metadata": {},
   "outputs": [],
   "source": []
  }
 ],
 "metadata": {
  "kernelspec": {
   "display_name": "Python 3",
   "language": "python",
   "name": "python3"
  },
  "language_info": {
   "codemirror_mode": {
    "name": "ipython",
    "version": 3
   },
   "file_extension": ".py",
   "mimetype": "text/x-python",
   "name": "python",
   "nbconvert_exporter": "python",
   "pygments_lexer": "ipython3",
   "version": "3.5.2"
  }
 },
 "nbformat": 4,
 "nbformat_minor": 2
}
