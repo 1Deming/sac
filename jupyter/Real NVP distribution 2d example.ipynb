{
 "cells": [
  {
   "cell_type": "code",
   "execution_count": null,
   "metadata": {},
   "outputs": [],
   "source": [
    "# Fix the python path problem with jupyter\n",
    "import sys\n",
    "import os\n",
    "PROJECT_BASE = os.path.abspath(os.path.join(os.getcwd(), os.pardir))\n",
    "assert PROJECT_BASE.split(\"/\")[-1] == \"sac\"\n",
    "sys.path.append(PROJECT_BASE)"
   ]
  },
  {
   "cell_type": "code",
   "execution_count": null,
   "metadata": {},
   "outputs": [],
   "source": [
    "%load_ext autoreload\n",
    "%autoreload 2\n",
    "\n",
    "import time\n",
    "import itertools\n",
    "from functools import reduce\n",
    "\n",
    "import tensorflow as tf\n",
    "import numpy as np\n",
    "from sklearn.mixture import GaussianMixture\n",
    "from scipy.special import logsumexp\n",
    "\n",
    "from sac.distributions.real_nvp import RealNVP\n",
    "from examples.real_nvp_2d_rl_example import RealNVP2dRlExample\n",
    "\n",
    "%matplotlib inline\n",
    "\n",
    "import matplotlib\n",
    "import matplotlib.pyplot as plt\n",
    "plt.rcParams[\"figure.figsize\"] = (10,8)"
   ]
  },
  {
   "cell_type": "code",
   "execution_count": null,
   "metadata": {},
   "outputs": [],
   "source": [
    "SEED = np.random.randint(1, 10)\n",
    "print(\"SEED: \", SEED)\n",
    "np.random.seed(SEED)\n",
    "tf.set_random_seed(SEED)"
   ]
  },
  {
   "cell_type": "code",
   "execution_count": null,
   "metadata": {},
   "outputs": [],
   "source": [
    "MEANS = np.array([[0.2, 0.7], [-0.5, -0.5]])\n",
    "VARIANCES = np.array([[0.05, 0.05], [0.1, 0.1]])\n",
    "WEIGHTS = np.array([0.5, 1.0])"
   ]
  },
  {
   "cell_type": "code",
   "execution_count": null,
   "metadata": {
    "scrolled": false
   },
   "outputs": [],
   "source": [
    "tf.reset_default_graph()\n",
    "\n",
    "%matplotlib notebook\n",
    "\n",
    "subplots = fig, ax = plt.subplots(1, 1, figsize=(10, 10))\n",
    "\n",
    "plt.ion()\n",
    "ax.set_xlim((-2.0, 2.0))\n",
    "ax.set_ylim((-2.0, 2.0))\n",
    "ax.grid(True)\n",
    "\n",
    "fig.canvas.draw()\n",
    "\n",
    "example = RealNVP2dRlExample(subplots, WEIGHTS, MEANS, VARIANCES)\n",
    "\n",
    "MIN, MAX = -2.1, 2.1\n",
    "xs = np.linspace(MIN, MAX, 100)\n",
    "ys = np.linspace(MIN, MAX, 100)\n",
    "mesh_x, mesh_y = np.meshgrid(xs, ys)\n",
    "\n",
    "x = np.stack((mesh_x.ravel(), mesh_y.ravel()), axis=1)\n",
    "target_Q = example.session.run(\n",
    "  example.policy_distribution.log_target,\n",
    "  feed_dict={example.policy_distribution.z: x}\n",
    ").reshape(mesh_x.shape)\n",
    "p_z = np.exp(target_Q)\n",
    "\n",
    "cs_target = plt.contour(mesh_x, mesh_y, p_z, 20, colors='r', linewidths=0.5)\n",
    "\n",
    "example.run()"
   ]
  },
  {
   "cell_type": "code",
   "execution_count": null,
   "metadata": {},
   "outputs": [],
   "source": []
  }
 ],
 "metadata": {
  "kernelspec": {
   "display_name": "Python 3",
   "language": "python",
   "name": "python3"
  },
  "language_info": {
   "codemirror_mode": {
    "name": "ipython",
    "version": 3
   },
   "file_extension": ".py",
   "mimetype": "text/x-python",
   "name": "python",
   "nbconvert_exporter": "python",
   "pygments_lexer": "ipython3",
   "version": "3.5.2"
  }
 },
 "nbformat": 4,
 "nbformat_minor": 2
}
