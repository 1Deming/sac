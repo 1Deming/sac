{
 "cells": [
  {
   "cell_type": "code",
   "execution_count": null,
   "metadata": {},
   "outputs": [],
   "source": [
    "# Fix \n",
    "import sys\n",
    "import os\n",
    "PROJECT_BASE = os.path.abspath(os.path.join(os.getcwd(), os.pardir))\n",
    "assert PROJECT_BASE.split(\"/\")[-1] == \"sac\"\n",
    "sys.path.append(PROJECT_BASE)"
   ]
  },
  {
   "cell_type": "code",
   "execution_count": null,
   "metadata": {},
   "outputs": [],
   "source": [
    "%load_ext autoreload\n",
    "%autoreload 2\n",
    "\n",
    "import time\n",
    "import itertools\n",
    "from functools import reduce\n",
    "\n",
    "import tensorflow as tf\n",
    "import numpy as np\n",
    "from sklearn.mixture import GaussianMixture\n",
    "from scipy.special import logsumexp\n",
    "\n",
    "from examples.real_nvp_2d_rl_example import RealNVP2dRlExample\n",
    "\n",
    "%matplotlib inline\n",
    "\n",
    "import matplotlib\n",
    "import matplotlib.pyplot as plt\n",
    "plt.rcParams[\"figure.figsize\"] = (10,8)"
   ]
  },
  {
   "cell_type": "code",
   "execution_count": null,
   "metadata": {},
   "outputs": [],
   "source": [
    "SEED = np.random.randint(1, 4)\n",
    "print(\"SEED: \", SEED)\n",
    "np.random.seed(SEED)\n",
    "tf.set_random_seed(SEED)"
   ]
  },
  {
   "cell_type": "code",
   "execution_count": null,
   "metadata": {
    "scrolled": false
   },
   "outputs": [],
   "source": [
    "tf.reset_default_graph()\n",
    "\n",
    "%matplotlib notebook\n",
    "\n",
    "subplots = fig, ax = plt.subplots(1, 1, figsize=(10, 10))\n",
    "\n",
    "plt.ion()\n",
    "ax.set_xlim((-2.1, 2.1))\n",
    "ax.set_ylim((-2.1, 2.1))\n",
    "ax.grid(True)\n",
    "\n",
    "fig.canvas.draw()\n",
    "\n",
    "tf.reset_default_graph()\n",
    "\n",
    "MEANS = np.array([[0.2, 0.7], [-0.5, -0.5]])\n",
    "VARIANCES = np.array([[0.05, 0.05], [0.1, 0.1]])\n",
    "WEIGHTS = np.array([0.5, 1.0])\n",
    "\n",
    "policy_config = {\n",
    "    \"mode\": \"train\",\n",
    "    \"D_in\": 2,\n",
    "    \"learning_rate\": 5e-4,\n",
    "    \"squash\": True,\n",
    "    \"real_nvp_config\": {\n",
    "        \"scale_regularization\": 1e-5,\n",
    "        \"num_coupling_layers\": 4,\n",
    "        \"translation_hidden_sizes\": (32,),\n",
    "        \"scale_hidden_sizes\": (32,),\n",
    "    }\n",
    "}\n",
    "\n",
    "example = RealNVP2dRlExample(subplots,\n",
    "                             WEIGHTS, MEANS, VARIANCES,\n",
    "                             policy_config=policy_config,\n",
    "                             batch_size=64,\n",
    "                             num_epochs=1000,\n",
    "                             num_steps_per_epoch=100)\n",
    "example.run()"
   ]
  },
  {
   "cell_type": "code",
   "execution_count": null,
   "metadata": {},
   "outputs": [],
   "source": []
  }
 ],
 "metadata": {
  "kernelspec": {
   "display_name": "Python 3",
   "language": "python",
   "name": "python3"
  },
  "language_info": {
   "codemirror_mode": {
    "name": "ipython",
    "version": 3
   },
   "file_extension": ".py",
   "mimetype": "text/x-python",
   "name": "python",
   "nbconvert_exporter": "python",
   "pygments_lexer": "ipython3",
   "version": "3.5.2"
  }
 },
 "nbformat": 4,
 "nbformat_minor": 2
}
